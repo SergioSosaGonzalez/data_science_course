{
 "cells": [
  {
   "cell_type": "markdown",
   "metadata": {},
   "source": [
    "# El método de k-means"
   ]
  },
  {
   "cell_type": "code",
   "execution_count": 1,
   "metadata": {},
   "outputs": [],
   "source": [
    "import numpy as np"
   ]
  },
  {
   "cell_type": "code",
   "execution_count": 2,
   "metadata": {},
   "outputs": [
    {
     "data": {
      "text/plain": [
       "array([[0.13528506, 0.28920228, 0.75968255],\n",
       "       [0.73430612, 0.19485741, 0.79750335],\n",
       "       [0.96577264, 0.31718344, 0.58039931],\n",
       "       [0.00105232, 0.43349364, 0.09719328],\n",
       "       [0.58797164, 0.37564832, 0.43733369],\n",
       "       [0.98900215, 0.01658961, 0.22364077],\n",
       "       [0.06694911, 0.936969  , 0.0321423 ],\n",
       "       [0.47187247, 0.95518878, 0.45689849],\n",
       "       [0.8565025 , 0.93432654, 0.31352653],\n",
       "       [0.9481358 , 0.63352934, 0.08876693],\n",
       "       [0.65658172, 0.30687232, 0.90717128],\n",
       "       [0.56575779, 0.04864868, 0.34382689],\n",
       "       [0.82989784, 0.2760495 , 0.1235917 ],\n",
       "       [0.06944816, 0.46890288, 0.07287815],\n",
       "       [0.08471417, 0.08227496, 0.91701094],\n",
       "       [0.47040069, 0.5117469 , 0.3061983 ],\n",
       "       [0.31855896, 0.87615865, 0.46458283],\n",
       "       [0.43035196, 0.10957722, 0.07102633],\n",
       "       [0.42450688, 0.4186096 , 0.75450214],\n",
       "       [0.90770458, 0.1378851 , 0.67595409],\n",
       "       [0.7740047 , 0.94628551, 0.18722343],\n",
       "       [0.90052101, 0.28691423, 0.12731034],\n",
       "       [0.16092054, 0.72785846, 0.02487485],\n",
       "       [0.57292006, 0.96499369, 0.82023181],\n",
       "       [0.37214779, 0.239173  , 0.69132672],\n",
       "       [0.58367894, 0.19390877, 0.79209773],\n",
       "       [0.0054075 , 0.96414625, 0.0505977 ],\n",
       "       [0.53109824, 0.14483302, 0.85988139],\n",
       "       [0.91478498, 0.14703822, 0.33136675],\n",
       "       [0.03189174, 0.41837484, 0.98276097]])"
      ]
     },
     "execution_count": 2,
     "metadata": {},
     "output_type": "execute_result"
    }
   ],
   "source": [
    "data = np.random.random(90).reshape(30,3)\n",
    "data"
   ]
  },
  {
   "cell_type": "code",
   "execution_count": 3,
   "metadata": {},
   "outputs": [
    {
     "data": {
      "text/plain": [
       "array([[0.90770458, 0.1378851 , 0.67595409],\n",
       "       [0.8565025 , 0.93432654, 0.31352653]])"
      ]
     },
     "execution_count": 3,
     "metadata": {},
     "output_type": "execute_result"
    }
   ],
   "source": [
    "c1 = np.random.choice(range(len(data)))\n",
    "c2 = np.random.choice(range(len(data)))\n",
    "clust_centers = np.vstack([data[c1], data[c2]])\n",
    "clust_centers"
   ]
  },
  {
   "cell_type": "code",
   "execution_count": 4,
   "metadata": {},
   "outputs": [],
   "source": [
    "from scipy.cluster.vq import vq"
   ]
  },
  {
   "cell_type": "code",
   "execution_count": 5,
   "metadata": {},
   "outputs": [
    {
     "data": {
      "text/plain": [
       "(array([0, 0, 0, 1, 0, 0, 1, 1, 1, 1, 0, 0, 0, 1, 0, 1, 1, 0, 0, 0, 1, 0,\n",
       "        1, 1, 0, 0, 1, 0, 0, 0]),\n",
       " array([0.79154232, 0.21928769, 0.21130667, 1.01460765, 0.46443535,\n",
       "        0.4752991 , 0.83819964, 0.41101218, 0.        , 0.38651326,\n",
       "        0.38089468, 0.48497342, 0.57467164, 0.945508  , 0.85936843,\n",
       "        0.57245251, 0.56176931, 0.77110599, 0.56431911, 0.        ,\n",
       "        0.15133201, 0.56856947, 0.78088612, 0.58147202, 0.54526748,\n",
       "        0.34874146, 0.89128194, 0.4191776 , 0.3447816 , 0.9694602 ]))"
      ]
     },
     "execution_count": 5,
     "metadata": {},
     "output_type": "execute_result"
    }
   ],
   "source": [
    "clusters = vq(data, clust_centers)\n",
    "clusters"
   ]
  },
  {
   "cell_type": "code",
   "execution_count": 6,
   "metadata": {},
   "outputs": [
    {
     "data": {
      "text/plain": [
       "array([0, 0, 0, 1, 0, 0, 1, 1, 1, 1, 0, 0, 0, 1, 0, 1, 1, 0, 0, 0, 1, 0,\n",
       "       1, 1, 0, 0, 1, 0, 0, 0])"
      ]
     },
     "execution_count": 6,
     "metadata": {},
     "output_type": "execute_result"
    }
   ],
   "source": [
    "labels = clusters[0]\n",
    "labels"
   ]
  },
  {
   "cell_type": "code",
   "execution_count": 7,
   "metadata": {},
   "outputs": [],
   "source": [
    "#The plotly.plotly module is deprecated,\n",
    "#please install the chart-studio package and use the\n",
    "#chart_studio.plotly module instead. \n",
    "#import plotly.plotly as py\n",
    "import chart_studio.plotly as py\n",
    "import plotly.graph_objs as go\n",
    "import plotly.offline as ply"
   ]
  },
  {
   "cell_type": "code",
   "execution_count": 8,
   "metadata": {},
   "outputs": [
    {
     "data": {
      "text/plain": [
       "'Clusters.html'"
      ]
     },
     "execution_count": 8,
     "metadata": {},
     "output_type": "execute_result"
    }
   ],
   "source": [
    "x = []\n",
    "y = []\n",
    "z = []\n",
    "x2 = []\n",
    "y2 = []\n",
    "z2 = []\n",
    "\n",
    "for i in range(0, len(labels)):\n",
    "    if(labels[i] == 0):\n",
    "        x.append(data[i,0])\n",
    "        y.append(data[i,1])\n",
    "        z.append(data[i,2])\n",
    "        \n",
    "    else:\n",
    "        x2.append(data[i,0])\n",
    "        y2.append(data[i,1])\n",
    "        z2.append(data[i,2])\n",
    "\n",
    "cluster1 = go.Scatter3d(\n",
    "    x=x,\n",
    "    y=y,\n",
    "    z=z,\n",
    "    mode='markers',\n",
    "    marker=dict(\n",
    "        size=12,\n",
    "        line=dict(\n",
    "            color='rgba(217, 217, 217, 0.14)',\n",
    "            width=0.5\n",
    "        ),\n",
    "        opacity=0.9\n",
    "    ),\n",
    "    name=\"Cluster 0\"\n",
    ")\n",
    "\n",
    "\n",
    "cluster2 = go.Scatter3d(\n",
    "    x=x2,\n",
    "    y=y2,\n",
    "    z=z2,\n",
    "    mode='markers',\n",
    "    marker=dict(\n",
    "        color='rgb(127, 127, 127)',\n",
    "        size=12,\n",
    "        symbol='circle',\n",
    "        line=dict(\n",
    "            color='rgb(204, 204, 204)',\n",
    "            width=1\n",
    "        ),\n",
    "        opacity=0.9\n",
    "    ),\n",
    "    name=\"Cluster 1\"\n",
    ")\n",
    "data2 = [cluster1, cluster2]\n",
    "layout = go.Layout(\n",
    "    margin=dict(\n",
    "        l=0,\n",
    "        r=0,\n",
    "        b=0,\n",
    "        t=30\n",
    "    )\n",
    ")\n",
    "\n",
    "fig = go.Figure(data=data2, layout=layout)\n",
    "#ply.plot(fig, filename='Clusters')\n",
    "ply.plot(fig, filename='Clusters.html')\n"
   ]
  },
  {
   "cell_type": "code",
   "execution_count": 9,
   "metadata": {},
   "outputs": [],
   "source": [
    "from scipy.cluster.vq import kmeans"
   ]
  },
  {
   "cell_type": "code",
   "execution_count": 10,
   "metadata": {},
   "outputs": [
    {
     "data": {
      "text/plain": [
       "(array([[0.59144307, 0.22242447, 0.57646594],\n",
       "        [0.3930144 , 0.77946664, 0.24292622]]),\n",
       " 0.41830251487310066)"
      ]
     },
     "execution_count": 10,
     "metadata": {},
     "output_type": "execute_result"
    }
   ],
   "source": [
    "kmeans(data, clust_centers)"
   ]
  },
  {
   "cell_type": "code",
   "execution_count": 11,
   "metadata": {},
   "outputs": [
    {
     "data": {
      "text/plain": [
       "(array([[0.59144307, 0.22242447, 0.57646594],\n",
       "        [0.3930144 , 0.77946664, 0.24292622]]),\n",
       " 0.41830251487310066)"
      ]
     },
     "execution_count": 11,
     "metadata": {},
     "output_type": "execute_result"
    }
   ],
   "source": [
    "kmeans(data, 2)"
   ]
  },
  {
   "cell_type": "code",
   "execution_count": null,
   "metadata": {},
   "outputs": [],
   "source": []
  }
 ],
 "metadata": {
  "kernelspec": {
   "display_name": "Python 3",
   "language": "python",
   "name": "python3"
  },
  "language_info": {
   "codemirror_mode": {
    "name": "ipython",
    "version": 3
   },
   "file_extension": ".py",
   "mimetype": "text/x-python",
   "name": "python",
   "nbconvert_exporter": "python",
   "pygments_lexer": "ipython3",
   "version": "3.8.3"
  }
 },
 "nbformat": 4,
 "nbformat_minor": 2
}
